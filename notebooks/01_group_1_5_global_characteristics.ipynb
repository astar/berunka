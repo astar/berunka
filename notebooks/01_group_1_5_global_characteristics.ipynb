{
 "metadata": {
  "name": ""
 },
 "nbformat": 3,
 "nbformat_minor": 0,
 "worksheets": [
  {
   "cells": [
    {
     "cell_type": "heading",
     "level": 1,
     "metadata": {},
     "source": [
      "Analysis of group 1-5 "
     ]
    },
    {
     "cell_type": "heading",
     "level": 3,
     "metadata": {},
     "source": [
      "Input data  is summed in each pixel (i.e. super spectrum representing group is created). Data are examined in absolute and normalized way. \n",
      "The effect of normalizatio ca be seen on graphs and data characteristics."
     ]
    },
    {
     "cell_type": "code",
     "collapsed": false,
     "input": [
      "import numpy as np\n",
      "import pandas as pd\n",
      "import matplotlib.pyplot as plt\n",
      "from sklearn import preprocessing"
     ],
     "language": "python",
     "metadata": {},
     "outputs": [],
     "prompt_number": 25
    },
    {
     "cell_type": "code",
     "collapsed": false,
     "input": [
      "%pylab inline\n",
      "import pylab as pl\n",
      "import numpy as np"
     ],
     "language": "python",
     "metadata": {},
     "outputs": [
      {
       "output_type": "stream",
       "stream": "stdout",
       "text": [
        "Populating the interactive namespace from numpy and matplotlib\n"
       ]
      }
     ],
     "prompt_number": 26
    },
    {
     "cell_type": "code",
     "collapsed": false,
     "input": [
      "# Some nice default configuration for plots\n",
      "pl.rcParams['figure.figsize'] = 10, 10\n",
      "pl.rcParams['axes.grid'] = True"
     ],
     "language": "python",
     "metadata": {},
     "outputs": [],
     "prompt_number": 27
    },
    {
     "cell_type": "code",
     "collapsed": false,
     "input": [
      "data = np.genfromtxt('data/archive_1_4_28072013.csv' , delimiter=',')"
     ],
     "language": "python",
     "metadata": {},
     "outputs": [],
     "prompt_number": 28
    },
    {
     "cell_type": "code",
     "collapsed": false,
     "input": [
      "!less data/archive_1_4_28072013.csv"
     ],
     "language": "python",
     "metadata": {},
     "outputs": [
      {
       "output_type": "stream",
       "stream": "stdout",
       "text": [
        "\u001b7\u001b[?47h\u001b[?1h\u001b=\r",
        "1,0.9930290810250747,0.97217071485250639,0.94969383352744219,0.95452006319389893 \b,0.9706013985984473,0.95578818014994216,0.93057425516477577,0.95423715100766315, \b0.98832093614219851,0.9864478237697677,0.98754810735548182,0.98825732116996534,0 \b.96420206161242394,0.94210970683781836,0.93897700772916837,0.94968854684437054,0 \b.97226468777184016,0.97568912122907447,0.95253935297883918,0.93333722753376325,0 \b.9373957785467073,0.96506031375710033,0.97894614614559983,0.98418660885305864,0. \b97552542222429772,0.92953212680598774,0.89462231609469733,0.89201594709226806,0. \b91954295589759383,0.96582707783708543,0.98931372181841482,0.98203749385160011,0. \b97556251984353937,0.98586786605421461,0.99562035056103881,0.99689307106368896,0. \b96111494928644847,0.90243821494979559,0.89336721793696483,0.90144799713509316,0. \b8963331608530879,0.92187818826098511,0.96367647387643429,0.9732650148046097,0.96 \b747245992333597,0.97250929063259428,0.93451890060476694,0.82846944005052559,0.77 \b736821770254538,0.80536911405687928,0.81068456238820297,0.83992849243358902,0.91 \b573217483261704,0.9530225708594724,0.94106940325291355,0.91744741412843522,0.916 \b51953238733375,0.94224412952923353,0.9727818993040811,0.99106240839450788,0.9915 \b8557765057964,0.99015696195453062,0.9722480029860231,0.92909027209117057,0.89951 \b443943618492,0.90005796410775485,0.86978798530361112,0.83760111149619554,0.88853 \b534821504965,0.95904093387512435,0.97924003640932611,0.9751561976407056,0.971964 \b26466124142,0.96751197697869706,0.97633270980941889,0.99015177455216752,0.993819 \b11497305053,0.99061606998155882,0.93308490423627566,0.85166845309746708,0.823166 \b44705087061,0.81224940973245985,0.82066268398084319,0.87921884509452386,0.931131 \b39267110967,0.94544161029893237,0.95667162950700835,0.961836060678813,0.94598597 \b\u001b[7mdata/archive_1_4_28072013.csv\u001b[m\u001b[K"
       ]
      },
      {
       "output_type": "stream",
       "stream": "stdout",
       "text": [
        "\u0007\r",
        "\u001b[K:\u001b[K\r",
        "\u001b[K429320741,0.94457046350955065,0.96799840614230415,0.97189875644987411,0.94012073 \b:\u001b[K"
       ]
      }
     ],
     "prompt_number": 24
    },
    {
     "cell_type": "code",
     "collapsed": false,
     "input": [
      "data[:10]"
     ],
     "language": "python",
     "metadata": {},
     "outputs": [
      {
       "metadata": {},
       "output_type": "pyout",
       "prompt_number": 22,
       "text": [
        "array([[ 1.        ,  0.99302908,  0.97217071, ...,  0.99843668,\n",
        "         1.00167549,  1.00167705],\n",
        "       [ 1.        ,  1.00077341,  0.97947424, ...,  0.98569812,\n",
        "         0.99276159,  1.00039855],\n",
        "       [ 1.        ,  0.97756442,  0.97244259, ...,  0.99606596,\n",
        "         1.00169864,  1.00494865],\n",
        "       ..., \n",
        "       [ 1.        ,  0.99439593,  0.97773964, ...,  0.98033727,\n",
        "         0.99849597,  1.00874566],\n",
        "       [ 1.        ,  0.99451264,  0.99542702, ...,  1.00076474,\n",
        "         0.99780042,  0.9980142 ],\n",
        "       [ 1.        ,  0.99727985,  0.98810732, ...,  0.99253812,\n",
        "         0.99860516,  1.00386061]])"
       ]
      }
     ],
     "prompt_number": 22
    },
    {
     "cell_type": "code",
     "collapsed": false,
     "input": [
      "group_1 = data[data[:,0] == 1][:,1:]\n",
      "group_2 = data[data[:,0] == 2][:,1:]\n",
      "group_3 = data[data[:,0] == 3][:,1:]\n",
      "group_4 = data[data[:,0] == 4][:,1:]"
     ],
     "language": "python",
     "metadata": {},
     "outputs": [],
     "prompt_number": 5
    },
    {
     "cell_type": "code",
     "collapsed": false,
     "input": [
      "sum_g_1 = group_1.sum(axis=0)\n",
      "sum_g_2 = group_2.sum(axis=0)\n",
      "sum_g_3 = group_3.sum(axis=0)\n",
      "sum_g_4 = group_4.sum(axis=0)"
     ],
     "language": "python",
     "metadata": {},
     "outputs": [],
     "prompt_number": 6
    },
    {
     "cell_type": "code",
     "collapsed": false,
     "input": [
      "sum_g_1 = group_1.mean(axis=0)\n",
      "sum_g_2 = group_2.mean(axis=0)\n",
      "sum_g_3 = group_3.mean(axis=0)\n",
      "sum_g_4 = group_4.mean(axis=0)"
     ],
     "language": "python",
     "metadata": {},
     "outputs": [],
     "prompt_number": 7
    },
    {
     "cell_type": "code",
     "collapsed": false,
     "input": [
      "preprocessing.scale?"
     ],
     "language": "python",
     "metadata": {},
     "outputs": [],
     "prompt_number": 36
    },
    {
     "cell_type": "code",
     "collapsed": false,
     "input": [
      "sum_g_1_scaled = preprocessing.scale(sum_g_1)\n",
      "sum_g_2_scaled = preprocessing.scale(sum_g_2)\n",
      "sum_g_3_scaled = preprocessing.scale(sum_g_3)\n",
      "sum_g_4_scaled = preprocessing.scale(sum_g_4)"
     ],
     "language": "python",
     "metadata": {},
     "outputs": [],
     "prompt_number": 8
    },
    {
     "cell_type": "code",
     "collapsed": false,
     "input": [
      "d = {'1':sum_g_1,'2':sum_g_2,'3':sum_g_3,'4':sum_g_4}\n",
      "d_scaled = {'1':sum_g_1_scaled,'2':sum_g_2_scaled,'3':sum_g_3_scaled,'4':sum_g_4_scaled}"
     ],
     "language": "python",
     "metadata": {},
     "outputs": [],
     "prompt_number": 9
    },
    {
     "cell_type": "code",
     "collapsed": false,
     "input": [
      "df = pd.DataFrame(d)\n",
      "df_scaled = pd.DataFrame(d_scaled)"
     ],
     "language": "python",
     "metadata": {},
     "outputs": [],
     "prompt_number": 10
    },
    {
     "cell_type": "code",
     "collapsed": false,
     "input": [
      "df.describe()"
     ],
     "language": "python",
     "metadata": {},
     "outputs": [
      {
       "output_type": "stream",
       "stream": "stderr",
       "text": [
        "/usr/local/lib/python2.7/dist-packages/pandas/core/config.py:570: DeprecationWarning: height has been deprecated.\n",
        "\n",
        "  warnings.warn(d.msg, DeprecationWarning)\n",
        "/usr/local/lib/python2.7/dist-packages/pandas/core/config.py:570: DeprecationWarning: height has been deprecated.\n",
        "\n",
        "  warnings.warn(d.msg, DeprecationWarning)\n"
       ]
      },
      {
       "html": [
        "<div style=\"max-height:1000px;max-width:1500px;overflow:auto;\">\n",
        "<table border=\"1\" class=\"dataframe\">\n",
        "  <thead>\n",
        "    <tr style=\"text-align: right;\">\n",
        "      <th></th>\n",
        "      <th>1</th>\n",
        "      <th>2</th>\n",
        "      <th>3</th>\n",
        "      <th>4</th>\n",
        "    </tr>\n",
        "  </thead>\n",
        "  <tbody>\n",
        "    <tr>\n",
        "      <th>count</th>\n",
        "      <td> 778.000000</td>\n",
        "      <td> 778.000000</td>\n",
        "      <td> 778.000000</td>\n",
        "      <td> 778.000000</td>\n",
        "    </tr>\n",
        "    <tr>\n",
        "      <th>mean</th>\n",
        "      <td>   1.228491</td>\n",
        "      <td>   1.157550</td>\n",
        "      <td>   0.953491</td>\n",
        "      <td>   0.984118</td>\n",
        "    </tr>\n",
        "    <tr>\n",
        "      <th>std</th>\n",
        "      <td>   1.159953</td>\n",
        "      <td>   0.661202</td>\n",
        "      <td>   0.073484</td>\n",
        "      <td>   0.048627</td>\n",
        "    </tr>\n",
        "    <tr>\n",
        "      <th>min</th>\n",
        "      <td>   0.903346</td>\n",
        "      <td>   0.917008</td>\n",
        "      <td>   0.540293</td>\n",
        "      <td>   0.504557</td>\n",
        "    </tr>\n",
        "    <tr>\n",
        "      <th>25%</th>\n",
        "      <td>   0.986080</td>\n",
        "      <td>   0.993839</td>\n",
        "      <td>   0.945290</td>\n",
        "      <td>   0.973546</td>\n",
        "    </tr>\n",
        "    <tr>\n",
        "      <th>50%</th>\n",
        "      <td>   1.000095</td>\n",
        "      <td>   0.999039</td>\n",
        "      <td>   0.980289</td>\n",
        "      <td>   0.990460</td>\n",
        "    </tr>\n",
        "    <tr>\n",
        "      <th>75%</th>\n",
        "      <td>   1.023301</td>\n",
        "      <td>   1.013416</td>\n",
        "      <td>   0.993896</td>\n",
        "      <td>   0.999200</td>\n",
        "    </tr>\n",
        "    <tr>\n",
        "      <th>max</th>\n",
        "      <td>  12.172522</td>\n",
        "      <td>   5.735773</td>\n",
        "      <td>   1.004044</td>\n",
        "      <td>   1.209309</td>\n",
        "    </tr>\n",
        "  </tbody>\n",
        "</table>\n",
        "</div>"
       ],
       "metadata": {},
       "output_type": "pyout",
       "prompt_number": 11,
       "text": [
        "                1           2           3           4\n",
        "count  778.000000  778.000000  778.000000  778.000000\n",
        "mean     1.228491    1.157550    0.953491    0.984118\n",
        "std      1.159953    0.661202    0.073484    0.048627\n",
        "min      0.903346    0.917008    0.540293    0.504557\n",
        "25%      0.986080    0.993839    0.945290    0.973546\n",
        "50%      1.000095    0.999039    0.980289    0.990460\n",
        "75%      1.023301    1.013416    0.993896    0.999200\n",
        "max     12.172522    5.735773    1.004044    1.209309"
       ]
      }
     ],
     "prompt_number": 11
    },
    {
     "cell_type": "code",
     "collapsed": false,
     "input": [
      "df_scaled.describe()"
     ],
     "language": "python",
     "metadata": {},
     "outputs": [
      {
       "output_type": "stream",
       "stream": "stderr",
       "text": [
        "/usr/local/lib/python2.7/dist-packages/pandas/core/config.py:570: DeprecationWarning: height has been deprecated.\n",
        "\n",
        "  warnings.warn(d.msg, DeprecationWarning)\n",
        "/usr/local/lib/python2.7/dist-packages/pandas/core/config.py:570: DeprecationWarning: height has been deprecated.\n",
        "\n",
        "  warnings.warn(d.msg, DeprecationWarning)\n"
       ]
      },
      {
       "html": [
        "<div style=\"max-height:1000px;max-width:1500px;overflow:auto;\">\n",
        "<table border=\"1\" class=\"dataframe\">\n",
        "  <thead>\n",
        "    <tr style=\"text-align: right;\">\n",
        "      <th></th>\n",
        "      <th>1</th>\n",
        "      <th>2</th>\n",
        "      <th>3</th>\n",
        "      <th>4</th>\n",
        "    </tr>\n",
        "  </thead>\n",
        "  <tbody>\n",
        "    <tr>\n",
        "      <th>count</th>\n",
        "      <td> 7.780000e+02</td>\n",
        "      <td> 7.780000e+02</td>\n",
        "      <td> 7.780000e+02</td>\n",
        "      <td> 7.780000e+02</td>\n",
        "    </tr>\n",
        "    <tr>\n",
        "      <th>mean</th>\n",
        "      <td> 6.810462e-16</td>\n",
        "      <td>-2.190479e-16</td>\n",
        "      <td>-1.131186e-14</td>\n",
        "      <td>-2.779154e-14</td>\n",
        "    </tr>\n",
        "    <tr>\n",
        "      <th>std</th>\n",
        "      <td> 1.000643e+00</td>\n",
        "      <td> 1.000643e+00</td>\n",
        "      <td> 1.000643e+00</td>\n",
        "      <td> 1.000643e+00</td>\n",
        "    </tr>\n",
        "    <tr>\n",
        "      <th>min</th>\n",
        "      <td>-2.804891e-01</td>\n",
        "      <td>-3.640285e-01</td>\n",
        "      <td>-5.626557e+00</td>\n",
        "      <td>-9.868434e+00</td>\n",
        "    </tr>\n",
        "    <tr>\n",
        "      <th>25%</th>\n",
        "      <td>-2.091182e-01</td>\n",
        "      <td>-2.477542e-01</td>\n",
        "      <td>-1.116667e-01</td>\n",
        "      <td>-2.175512e-01</td>\n",
        "    </tr>\n",
        "    <tr>\n",
        "      <th>50%</th>\n",
        "      <td>-1.970277e-01</td>\n",
        "      <td>-2.398852e-01</td>\n",
        "      <td> 3.649098e-01</td>\n",
        "      <td> 1.305053e-01</td>\n",
        "    </tr>\n",
        "    <tr>\n",
        "      <th>75%</th>\n",
        "      <td>-1.770095e-01</td>\n",
        "      <td>-2.181279e-01</td>\n",
        "      <td> 5.502044e-01</td>\n",
        "      <td> 3.103653e-01</td>\n",
        "    </tr>\n",
        "    <tr>\n",
        "      <th>max</th>\n",
        "      <td> 9.440965e+00</td>\n",
        "      <td> 6.928544e+00</td>\n",
        "      <td> 6.883873e-01</td>\n",
        "      <td> 4.633992e+00</td>\n",
        "    </tr>\n",
        "  </tbody>\n",
        "</table>\n",
        "</div>"
       ],
       "metadata": {},
       "output_type": "pyout",
       "prompt_number": 12,
       "text": [
        "                  1             2             3             4\n",
        "count  7.780000e+02  7.780000e+02  7.780000e+02  7.780000e+02\n",
        "mean   6.810462e-16 -2.190479e-16 -1.131186e-14 -2.779154e-14\n",
        "std    1.000643e+00  1.000643e+00  1.000643e+00  1.000643e+00\n",
        "min   -2.804891e-01 -3.640285e-01 -5.626557e+00 -9.868434e+00\n",
        "25%   -2.091182e-01 -2.477542e-01 -1.116667e-01 -2.175512e-01\n",
        "50%   -1.970277e-01 -2.398852e-01  3.649098e-01  1.305053e-01\n",
        "75%   -1.770095e-01 -2.181279e-01  5.502044e-01  3.103653e-01\n",
        "max    9.440965e+00  6.928544e+00  6.883873e-01  4.633992e+00"
       ]
      }
     ],
     "prompt_number": 12
    },
    {
     "cell_type": "code",
     "collapsed": false,
     "input": [
      "df.head()"
     ],
     "language": "python",
     "metadata": {},
     "outputs": [
      {
       "output_type": "stream",
       "stream": "stderr",
       "text": [
        "/usr/local/lib/python2.7/dist-packages/pandas/core/config.py:570: DeprecationWarning: height has been deprecated.\n",
        "\n",
        "  warnings.warn(d.msg, DeprecationWarning)\n",
        "/usr/local/lib/python2.7/dist-packages/pandas/core/config.py:570: DeprecationWarning: height has been deprecated.\n",
        "\n",
        "  warnings.warn(d.msg, DeprecationWarning)\n"
       ]
      },
      {
       "html": [
        "<div style=\"max-height:1000px;max-width:1500px;overflow:auto;\">\n",
        "<table border=\"1\" class=\"dataframe\">\n",
        "  <thead>\n",
        "    <tr style=\"text-align: right;\">\n",
        "      <th></th>\n",
        "      <th>1</th>\n",
        "      <th>2</th>\n",
        "      <th>3</th>\n",
        "      <th>4</th>\n",
        "    </tr>\n",
        "  </thead>\n",
        "  <tbody>\n",
        "    <tr>\n",
        "      <th>0</th>\n",
        "      <td> 0.944114</td>\n",
        "      <td> 0.993323</td>\n",
        "      <td> 0.977869</td>\n",
        "      <td> 0.979668</td>\n",
        "    </tr>\n",
        "    <tr>\n",
        "      <th>1</th>\n",
        "      <td> 0.972610</td>\n",
        "      <td> 0.987993</td>\n",
        "      <td> 0.980768</td>\n",
        "      <td> 0.981521</td>\n",
        "    </tr>\n",
        "    <tr>\n",
        "      <th>2</th>\n",
        "      <td> 0.978741</td>\n",
        "      <td> 0.981526</td>\n",
        "      <td> 0.980493</td>\n",
        "      <td> 0.979271</td>\n",
        "    </tr>\n",
        "    <tr>\n",
        "      <th>3</th>\n",
        "      <td> 0.974366</td>\n",
        "      <td> 0.979364</td>\n",
        "      <td> 0.980032</td>\n",
        "      <td> 0.975394</td>\n",
        "    </tr>\n",
        "    <tr>\n",
        "      <th>4</th>\n",
        "      <td> 0.969388</td>\n",
        "      <td> 0.982382</td>\n",
        "      <td> 0.980741</td>\n",
        "      <td> 0.978765</td>\n",
        "    </tr>\n",
        "  </tbody>\n",
        "</table>\n",
        "</div>"
       ],
       "metadata": {},
       "output_type": "pyout",
       "prompt_number": 13,
       "text": [
        "          1         2         3         4\n",
        "0  0.944114  0.993323  0.977869  0.979668\n",
        "1  0.972610  0.987993  0.980768  0.981521\n",
        "2  0.978741  0.981526  0.980493  0.979271\n",
        "3  0.974366  0.979364  0.980032  0.975394\n",
        "4  0.969388  0.982382  0.980741  0.978765"
       ]
      }
     ],
     "prompt_number": 13
    },
    {
     "cell_type": "code",
     "collapsed": false,
     "input": [
      "ax = df_scaled.plot(c='k' , subplots=True)\n",
      "ax[0].set_ylabel('ADU')\n",
      "ax[3].set_xlabel('Pixel order')\n",
      "[a.yaxis.set_major_formatter(FormatStrFormatter('%5.1f')) for a in ax]\n",
      "[pl.savefig('pic2.{}'.format(ext),dpi=600) for ext in ['png','svg','pdf']]"
     ],
     "language": "python",
     "metadata": {},
     "outputs": [
      {
       "metadata": {},
       "output_type": "pyout",
       "prompt_number": 35,
       "text": [
        "[None, None, None]"
       ]
      },
      {
       "metadata": {},
       "output_type": "display_data",
       "png": "[encoded data removed]",
       "text": [
        "<matplotlib.figure.Figure at 0xd895290>"
       ]
      }
     ],
     "prompt_number": 35
    },
    {
     "cell_type": "code",
     "collapsed": false,
     "input": [
      "6563 -400"
     ],
     "language": "python",
     "metadata": {},
     "outputs": [
      {
       "metadata": {},
       "output_type": "pyout",
       "prompt_number": 20,
       "text": [
        "6163"
       ]
      }
     ],
     "prompt_number": 20
    }
   ],
   "metadata": {}
  }
 ]
}