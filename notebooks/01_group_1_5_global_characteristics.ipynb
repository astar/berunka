{
 "metadata": {
  "name": "01_group_1_5_global_characteristics"
 },
 "nbformat": 3,
 "nbformat_minor": 0,
 "worksheets": [
  {
   "cells": [
    {
     "cell_type": "heading",
     "level": 1,
     "metadata": {},
     "source": [
      "Analysis of group 1-5 "
     ]
    },
    {
     "cell_type": "heading",
     "level": 3,
     "metadata": {},
     "source": [
      "Input data  is summed in each pixel (i.e. super spectrum representing group is created). Data are examined in absolute and normalized way. \n",
      "The effect of normalizatio ca be seen on graphs and data characteristics."
     ]
    },
    {
     "cell_type": "code",
     "collapsed": false,
     "input": [
      "import numpy as np\n",
      "import pandas as pd\n",
      "import matplotlib.pyplot as plt\n",
      "from sklearn import preprocessing"
     ],
     "language": "python",
     "metadata": {},
     "outputs": [],
     "prompt_number": 3
    },
    {
     "cell_type": "code",
     "collapsed": false,
     "input": [
      "data = np.genfromtxt('data/archive_1_4_28072013.csv' , delimiter=',')"
     ],
     "language": "python",
     "metadata": {},
     "outputs": [],
     "prompt_number": 4
    },
    {
     "cell_type": "code",
     "collapsed": false,
     "input": [
      "group_1 = data[data[:,0] == 1][:,1:]\n",
      "group_2 = data[data[:,0] == 2][:,1:]\n",
      "group_3 = data[data[:,0] == 3][:,1:]\n",
      "group_4 = data[data[:,0] == 4][:,1:]"
     ],
     "language": "python",
     "metadata": {},
     "outputs": [],
     "prompt_number": 5
    },
    {
     "cell_type": "code",
     "collapsed": false,
     "input": [
      "sum_g_1 = group_1.sum(axis=0)\n",
      "sum_g_2 = group_2.sum(axis=0)\n",
      "sum_g_3 = group_3.sum(axis=0)\n",
      "sum_g_4 = group_4.sum(axis=0)"
     ],
     "language": "python",
     "metadata": {},
     "outputs": [],
     "prompt_number": 6
    },
    {
     "cell_type": "code",
     "collapsed": false,
     "input": [
      "sum_g_1_scaled = preprocessing.scale(sum_g_1)\n",
      "sum_g_2_scaled = preprocessing.scale(sum_g_2)\n",
      "sum_g_3_scaled = preprocessing.scale(sum_g_3)\n",
      "sum_g_4_scaled = preprocessing.scale(sum_g_4)"
     ],
     "language": "python",
     "metadata": {},
     "outputs": [],
     "prompt_number": 7
    },
    {
     "cell_type": "code",
     "collapsed": false,
     "input": [
      "d = {'1':sum_g_1,'2':sum_g_2,'3':sum_g_3,'4':sum_g_4}\n",
      "d_scaled = {'1':sum_g_1_scaled,'2':sum_g_2_scaled,'3':sum_g_3_scaled,'4':sum_g_4_scaled}"
     ],
     "language": "python",
     "metadata": {},
     "outputs": [],
     "prompt_number": 8
    },
    {
     "cell_type": "code",
     "collapsed": false,
     "input": [
      "df = pd.DataFrame(d)\n",
      "df_scaled = pd.DataFrame(d_scaled)"
     ],
     "language": "python",
     "metadata": {},
     "outputs": [],
     "prompt_number": 9
    },
    {
     "cell_type": "code",
     "collapsed": false,
     "input": [
      "df.describe()"
     ],
     "language": "python",
     "metadata": {},
     "outputs": [
      {
       "html": [
        "<div style=\"max-height:1000px;max-width:1500px;overflow:auto;\">\n",
        "<table border=\"1\" class=\"dataframe\">\n",
        "  <thead>\n",
        "    <tr style=\"text-align: right;\">\n",
        "      <th></th>\n",
        "      <th>1</th>\n",
        "      <th>2</th>\n",
        "      <th>3</th>\n",
        "      <th>4</th>\n",
        "    </tr>\n",
        "  </thead>\n",
        "  <tbody>\n",
        "    <tr>\n",
        "      <th>count</th>\n",
        "      <td>  778.000000</td>\n",
        "      <td>  778.000000</td>\n",
        "      <td>  778.000000</td>\n",
        "      <td> 778.000000</td>\n",
        "    </tr>\n",
        "    <tr>\n",
        "      <th>mean</th>\n",
        "      <td>  501.224420</td>\n",
        "      <td>  334.531824</td>\n",
        "      <td> 1275.770529</td>\n",
        "      <td> 126.951196</td>\n",
        "    </tr>\n",
        "    <tr>\n",
        "      <th>std</th>\n",
        "      <td>  473.260630</td>\n",
        "      <td>  191.087446</td>\n",
        "      <td>   98.322043</td>\n",
        "      <td>   6.272849</td>\n",
        "    </tr>\n",
        "    <tr>\n",
        "      <th>min</th>\n",
        "      <td>  368.565295</td>\n",
        "      <td>  265.015270</td>\n",
        "      <td>  722.911650</td>\n",
        "      <td>  65.087802</td>\n",
        "    </tr>\n",
        "    <tr>\n",
        "      <th>25%</th>\n",
        "      <td>  402.320637</td>\n",
        "      <td>  287.219535</td>\n",
        "      <td> 1264.798285</td>\n",
        "      <td> 125.587408</td>\n",
        "    </tr>\n",
        "    <tr>\n",
        "      <th>50%</th>\n",
        "      <td>  408.038922</td>\n",
        "      <td>  288.722244</td>\n",
        "      <td> 1311.626142</td>\n",
        "      <td> 127.769310</td>\n",
        "    </tr>\n",
        "    <tr>\n",
        "      <th>75%</th>\n",
        "      <td>  417.506651</td>\n",
        "      <td>  292.877126</td>\n",
        "      <td> 1329.832974</td>\n",
        "      <td> 128.896820</td>\n",
        "    </tr>\n",
        "    <tr>\n",
        "      <th>max</th>\n",
        "      <td> 4966.388820</td>\n",
        "      <td> 1657.638404</td>\n",
        "      <td> 1343.410662</td>\n",
        "      <td> 156.000838</td>\n",
        "    </tr>\n",
        "  </tbody>\n",
        "</table>\n",
        "</div>"
       ],
       "output_type": "pyout",
       "prompt_number": 10,
       "text": [
        "                 1            2            3           4\n",
        "count   778.000000   778.000000   778.000000  778.000000\n",
        "mean    501.224420   334.531824  1275.770529  126.951196\n",
        "std     473.260630   191.087446    98.322043    6.272849\n",
        "min     368.565295   265.015270   722.911650   65.087802\n",
        "25%     402.320637   287.219535  1264.798285  125.587408\n",
        "50%     408.038922   288.722244  1311.626142  127.769310\n",
        "75%     417.506651   292.877126  1329.832974  128.896820\n",
        "max    4966.388820  1657.638404  1343.410662  156.000838"
       ]
      }
     ],
     "prompt_number": 10
    },
    {
     "cell_type": "code",
     "collapsed": false,
     "input": [
      "df_scaled.describe()"
     ],
     "language": "python",
     "metadata": {},
     "outputs": [
      {
       "html": [
        "<div style=\"max-height:1000px;max-width:1500px;overflow:auto;\">\n",
        "<table border=\"1\" class=\"dataframe\">\n",
        "  <thead>\n",
        "    <tr style=\"text-align: right;\">\n",
        "      <th></th>\n",
        "      <th>1</th>\n",
        "      <th>2</th>\n",
        "      <th>3</th>\n",
        "      <th>4</th>\n",
        "    </tr>\n",
        "  </thead>\n",
        "  <tbody>\n",
        "    <tr>\n",
        "      <th>count</th>\n",
        "      <td> 7.780000e+02</td>\n",
        "      <td> 7.780000e+02</td>\n",
        "      <td> 7.780000e+02</td>\n",
        "      <td> 7.780000e+02</td>\n",
        "    </tr>\n",
        "    <tr>\n",
        "      <th>mean</th>\n",
        "      <td>-3.376691e-16</td>\n",
        "      <td> 1.119071e-15</td>\n",
        "      <td> 2.840344e-15</td>\n",
        "      <td>-8.827272e-15</td>\n",
        "    </tr>\n",
        "    <tr>\n",
        "      <th>std</th>\n",
        "      <td> 1.000643e+00</td>\n",
        "      <td> 1.000643e+00</td>\n",
        "      <td> 1.000643e+00</td>\n",
        "      <td> 1.000643e+00</td>\n",
        "    </tr>\n",
        "    <tr>\n",
        "      <th>min</th>\n",
        "      <td>-2.804891e-01</td>\n",
        "      <td>-3.640285e-01</td>\n",
        "      <td>-5.626557e+00</td>\n",
        "      <td>-9.868434e+00</td>\n",
        "    </tr>\n",
        "    <tr>\n",
        "      <th>25%</th>\n",
        "      <td>-2.091182e-01</td>\n",
        "      <td>-2.477542e-01</td>\n",
        "      <td>-1.116667e-01</td>\n",
        "      <td>-2.175512e-01</td>\n",
        "    </tr>\n",
        "    <tr>\n",
        "      <th>50%</th>\n",
        "      <td>-1.970277e-01</td>\n",
        "      <td>-2.398852e-01</td>\n",
        "      <td> 3.649098e-01</td>\n",
        "      <td> 1.305053e-01</td>\n",
        "    </tr>\n",
        "    <tr>\n",
        "      <th>75%</th>\n",
        "      <td>-1.770095e-01</td>\n",
        "      <td>-2.181279e-01</td>\n",
        "      <td> 5.502044e-01</td>\n",
        "      <td> 3.103653e-01</td>\n",
        "    </tr>\n",
        "    <tr>\n",
        "      <th>max</th>\n",
        "      <td> 9.440965e+00</td>\n",
        "      <td> 6.928544e+00</td>\n",
        "      <td> 6.883873e-01</td>\n",
        "      <td> 4.633992e+00</td>\n",
        "    </tr>\n",
        "  </tbody>\n",
        "</table>\n",
        "</div>"
       ],
       "output_type": "pyout",
       "prompt_number": 11,
       "text": [
        "                  1             2             3             4\n",
        "count  7.780000e+02  7.780000e+02  7.780000e+02  7.780000e+02\n",
        "mean  -3.376691e-16  1.119071e-15  2.840344e-15 -8.827272e-15\n",
        "std    1.000643e+00  1.000643e+00  1.000643e+00  1.000643e+00\n",
        "min   -2.804891e-01 -3.640285e-01 -5.626557e+00 -9.868434e+00\n",
        "25%   -2.091182e-01 -2.477542e-01 -1.116667e-01 -2.175512e-01\n",
        "50%   -1.970277e-01 -2.398852e-01  3.649098e-01  1.305053e-01\n",
        "75%   -1.770095e-01 -2.181279e-01  5.502044e-01  3.103653e-01\n",
        "max    9.440965e+00  6.928544e+00  6.883873e-01  4.633992e+00"
       ]
      }
     ],
     "prompt_number": 11
    },
    {
     "cell_type": "code",
     "collapsed": false,
     "input": [
      "f = pl.figure"
     ],
     "language": "python",
     "metadata": {},
     "outputs": [],
     "prompt_number": 81
    },
    {
     "cell_type": "code",
     "collapsed": false,
     "input": [
      "df.plot()"
     ],
     "language": "python",
     "metadata": {},
     "outputs": [
      {
       "output_type": "pyout",
       "prompt_number": 62,
       "text": [
        "<matplotlib.axes.AxesSubplot at 0xabdcfd0>"
       ]
      },
      {
       "output_type": "display_data",
       "png": "[encoded data removed]"
      }
     ],
     "prompt_number": 62
    },
    {
     "cell_type": "code",
     "collapsed": false,
     "input": [
      "[f.savefig('pic2.{}'.format(ext)) for ext in ['png','svg','pdf']]"
     ],
     "language": "python",
     "metadata": {},
     "outputs": [
      {
       "output_type": "pyout",
       "prompt_number": 63,
       "text": [
        "[None, None, None]"
       ]
      }
     ],
     "prompt_number": 63
    },
    {
     "cell_type": "code",
     "collapsed": false,
     "input": [
      "df_scaled.plot()"
     ],
     "language": "python",
     "metadata": {},
     "outputs": [
      {
       "output_type": "pyout",
       "prompt_number": 75,
       "text": [
        "<matplotlib.axes.AxesSubplot at 0xa81f790>"
       ]
      },
      {
       "output_type": "display_data",
       "png": "[encoded data removed]"
      }
     ],
     "prompt_number": 75
    },
    {
     "cell_type": "code",
     "collapsed": false,
     "input": [
      "bp_scaled = df_scaled.boxplot()"
     ],
     "language": "python",
     "metadata": {},
     "outputs": [
      {
       "output_type": "display_data",
       "png": "[encoded data removed]"
      }
     ],
     "prompt_number": 15
    },
    {
     "cell_type": "code",
     "collapsed": false,
     "input": [
      "f = pl.figure"
     ],
     "language": "python",
     "metadata": {},
     "outputs": [],
     "prompt_number": 79
    },
    {
     "cell_type": "code",
     "collapsed": false,
     "input": [
      "df.boxplot()"
     ],
     "language": "python",
     "metadata": {},
     "outputs": [
      {
       "output_type": "pyout",
       "prompt_number": 82,
       "text": [
        "{'boxes': [<matplotlib.lines.Line2D at 0x59ed7d0>,\n",
        "  <matplotlib.lines.Line2D at 0x5a22fd0>,\n",
        "  <matplotlib.lines.Line2D at 0x5a1d810>,\n",
        "  <matplotlib.lines.Line2D at 0x59f6050>],\n",
        " 'caps': [<matplotlib.lines.Line2D at 0x5649510>,\n",
        "  <matplotlib.lines.Line2D at 0x59ed2d0>,\n",
        "  <matplotlib.lines.Line2D at 0x5a225d0>,\n",
        "  <matplotlib.lines.Line2D at 0x5a22ad0>,\n",
        "  <matplotlib.lines.Line2D at 0x5a05dd0>,\n",
        "  <matplotlib.lines.Line2D at 0x5a1d310>,\n",
        "  <matplotlib.lines.Line2D at 0x5a02610>,\n",
        "  <matplotlib.lines.Line2D at 0x5a02b10>],\n",
        " 'fliers': [<matplotlib.lines.Line2D at 0x59f2210>,\n",
        "  <matplotlib.lines.Line2D at 0x59f26d0>,\n",
        "  <matplotlib.lines.Line2D at 0x5a16a10>,\n",
        "  <matplotlib.lines.Line2D at 0x5a16ed0>,\n",
        "  <matplotlib.lines.Line2D at 0x5a0c250>,\n",
        "  <matplotlib.lines.Line2D at 0x5a0c9d0>,\n",
        "  <matplotlib.lines.Line2D at 0x59f6a50>,\n",
        "  <matplotlib.lines.Line2D at 0x59f6f10>],\n",
        " 'medians': [<matplotlib.lines.Line2D at 0x59edcd0>,\n",
        "  <matplotlib.lines.Line2D at 0x5a16510>,\n",
        "  <matplotlib.lines.Line2D at 0x5a1dd10>,\n",
        "  <matplotlib.lines.Line2D at 0x59f6550>],\n",
        " 'whiskers': [<matplotlib.lines.Line2D at 0x59ee7d0>,\n",
        "  <matplotlib.lines.Line2D at 0x59ee690>,\n",
        "  <matplotlib.lines.Line2D at 0x59f2b90>,\n",
        "  <matplotlib.lines.Line2D at 0x5a220d0>,\n",
        "  <matplotlib.lines.Line2D at 0x5a053d0>,\n",
        "  <matplotlib.lines.Line2D at 0x5a058d0>,\n",
        "  <matplotlib.lines.Line2D at 0x5a0cbd0>,\n",
        "  <matplotlib.lines.Line2D at 0x5a02110>]}"
       ]
      },
      {
       "output_type": "display_data",
       "png": "[encoded data removed]"
      }
     ],
     "prompt_number": 82
    },
    {
     "cell_type": "code",
     "collapsed": false,
     "input": [
      "[f.savefig('pic3.{}'.format(ext)) for ext in ['png','svg','pdf']]"
     ],
     "language": "python",
     "metadata": {},
     "outputs": [
      {
       "output_type": "pyout",
       "prompt_number": 83,
       "text": [
        "[None, None, None]"
       ]
      }
     ],
     "prompt_number": 83
    }
   ],
   "metadata": {}
  }
 ]
}