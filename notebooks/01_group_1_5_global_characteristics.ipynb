{
 "metadata": {
  "name": "01_group_1_5_global_characteristics"
 },
 "nbformat": 3,
 "nbformat_minor": 0,
 "worksheets": [
  {
   "cells": [
    {
     "cell_type": "heading",
     "level": 1,
     "metadata": {},
     "source": [
      "Analysis of group 1-5 "
     ]
    },
    {
     "cell_type": "heading",
     "level": 3,
     "metadata": {},
     "source": [
      "Input data  is summed in each pixel (i.e. super spectrum representing group is created). Data are examined in absolute and normalized way. \n",
      "The effect of normalizatio ca be seen on graphs and data characteristics."
     ]
    },
    {
     "cell_type": "code",
     "collapsed": false,
     "input": [
      "import numpy as np\n",
      "import pandas as pd\n",
      "import matplotlib.pyplot as plt\n",
      "from sklearn import preprocessing"
     ],
     "language": "python",
     "metadata": {},
     "outputs": [],
     "prompt_number": 37
    },
    {
     "cell_type": "code",
     "collapsed": false,
     "input": [
      "%pylab inline\n",
      "import pylab as pl\n",
      "import numpy as np"
     ],
     "language": "python",
     "metadata": {},
     "outputs": [
      {
       "output_type": "stream",
       "stream": "stdout",
       "text": [
        "\n",
        "Welcome to pylab, a matplotlib-based Python environment [backend: module://IPython.zmq.pylab.backend_inline].\n",
        "For more information, type 'help(pylab)'.\n"
       ]
      }
     ],
     "prompt_number": 38
    },
    {
     "cell_type": "code",
     "collapsed": false,
     "input": [
      "# Some nice default configuration for plots\n",
      "pl.rcParams['figure.figsize'] = 10, 10\n",
      "pl.rcParams['axes.grid'] = True"
     ],
     "language": "python",
     "metadata": {},
     "outputs": [],
     "prompt_number": 39
    },
    {
     "cell_type": "code",
     "collapsed": false,
     "input": [
      "data = np.genfromtxt('data/archive_1_4_28072013.csv' , delimiter=',')"
     ],
     "language": "python",
     "metadata": {},
     "outputs": [],
     "prompt_number": 12
    },
    {
     "cell_type": "code",
     "collapsed": false,
     "input": [
      "group_1 = data[data[:,0] == 1][:,1:]\n",
      "group_2 = data[data[:,0] == 2][:,1:]\n",
      "group_3 = data[data[:,0] == 3][:,1:]\n",
      "group_4 = data[data[:,0] == 4][:,1:]"
     ],
     "language": "python",
     "metadata": {},
     "outputs": [],
     "prompt_number": 40
    },
    {
     "cell_type": "code",
     "collapsed": false,
     "input": [
      "sum_g_1 = group_1.sum(axis=0)\n",
      "sum_g_2 = group_2.sum(axis=0)\n",
      "sum_g_3 = group_3.sum(axis=0)\n",
      "sum_g_4 = group_4.sum(axis=0)"
     ],
     "language": "python",
     "metadata": {},
     "outputs": [],
     "prompt_number": 41
    },
    {
     "cell_type": "code",
     "collapsed": false,
     "input": [
      "sum_g_1 = group_1.mean(axis=0)\n",
      "sum_g_2 = group_2.mean(axis=0)\n",
      "sum_g_3 = group_3.mean(axis=0)\n",
      "sum_g_4 = group_4.mean(axis=0)"
     ],
     "language": "python",
     "metadata": {},
     "outputs": [],
     "prompt_number": 45
    },
    {
     "cell_type": "code",
     "collapsed": false,
     "input": [
      "sum_g_1_scaled = preprocessing.scale(sum_g_1)\n",
      "sum_g_2_scaled = preprocessing.scale(sum_g_2)\n",
      "sum_g_3_scaled = preprocessing.scale(sum_g_3)\n",
      "sum_g_4_scaled = preprocessing.scale(sum_g_4)"
     ],
     "language": "python",
     "metadata": {},
     "outputs": [],
     "prompt_number": 15
    },
    {
     "cell_type": "code",
     "collapsed": false,
     "input": [
      "d = {'1':sum_g_1,'2':sum_g_2,'3':sum_g_3,'4':sum_g_4}\n",
      "d_scaled = {'1':sum_g_1_scaled,'2':sum_g_2_scaled,'3':sum_g_3_scaled,'4':sum_g_4_scaled}"
     ],
     "language": "python",
     "metadata": {},
     "outputs": [],
     "prompt_number": 46
    },
    {
     "cell_type": "code",
     "collapsed": false,
     "input": [
      "df = pd.DataFrame(d)\n",
      "df_scaled = pd.DataFrame(d_scaled)"
     ],
     "language": "python",
     "metadata": {},
     "outputs": [],
     "prompt_number": 47
    },
    {
     "cell_type": "code",
     "collapsed": false,
     "input": [
      "df.describe()"
     ],
     "language": "python",
     "metadata": {},
     "outputs": [
      {
       "html": [
        "<div style=\"max-height:1000px;max-width:1500px;overflow:auto;\">\n",
        "<table border=\"1\" class=\"dataframe\">\n",
        "  <thead>\n",
        "    <tr style=\"text-align: right;\">\n",
        "      <th></th>\n",
        "      <th>1</th>\n",
        "      <th>2</th>\n",
        "      <th>3</th>\n",
        "      <th>4</th>\n",
        "    </tr>\n",
        "  </thead>\n",
        "  <tbody>\n",
        "    <tr>\n",
        "      <th>count</th>\n",
        "      <td> 778.000000</td>\n",
        "      <td> 778.000000</td>\n",
        "      <td> 778.000000</td>\n",
        "      <td> 778.000000</td>\n",
        "    </tr>\n",
        "    <tr>\n",
        "      <th>mean</th>\n",
        "      <td>   1.228491</td>\n",
        "      <td>   1.157550</td>\n",
        "      <td>   0.953491</td>\n",
        "      <td>   0.984118</td>\n",
        "    </tr>\n",
        "    <tr>\n",
        "      <th>std</th>\n",
        "      <td>   1.159953</td>\n",
        "      <td>   0.661202</td>\n",
        "      <td>   0.073484</td>\n",
        "      <td>   0.048627</td>\n",
        "    </tr>\n",
        "    <tr>\n",
        "      <th>min</th>\n",
        "      <td>   0.903346</td>\n",
        "      <td>   0.917008</td>\n",
        "      <td>   0.540293</td>\n",
        "      <td>   0.504557</td>\n",
        "    </tr>\n",
        "    <tr>\n",
        "      <th>25%</th>\n",
        "      <td>   0.986080</td>\n",
        "      <td>   0.993839</td>\n",
        "      <td>   0.945290</td>\n",
        "      <td>   0.973546</td>\n",
        "    </tr>\n",
        "    <tr>\n",
        "      <th>50%</th>\n",
        "      <td>   1.000095</td>\n",
        "      <td>   0.999039</td>\n",
        "      <td>   0.980289</td>\n",
        "      <td>   0.990460</td>\n",
        "    </tr>\n",
        "    <tr>\n",
        "      <th>75%</th>\n",
        "      <td>   1.023301</td>\n",
        "      <td>   1.013416</td>\n",
        "      <td>   0.993896</td>\n",
        "      <td>   0.999200</td>\n",
        "    </tr>\n",
        "    <tr>\n",
        "      <th>max</th>\n",
        "      <td>  12.172522</td>\n",
        "      <td>   5.735773</td>\n",
        "      <td>   1.004044</td>\n",
        "      <td>   1.209309</td>\n",
        "    </tr>\n",
        "  </tbody>\n",
        "</table>\n",
        "</div>"
       ],
       "output_type": "pyout",
       "prompt_number": 48,
       "text": [
        "                1           2           3           4\n",
        "count  778.000000  778.000000  778.000000  778.000000\n",
        "mean     1.228491    1.157550    0.953491    0.984118\n",
        "std      1.159953    0.661202    0.073484    0.048627\n",
        "min      0.903346    0.917008    0.540293    0.504557\n",
        "25%      0.986080    0.993839    0.945290    0.973546\n",
        "50%      1.000095    0.999039    0.980289    0.990460\n",
        "75%      1.023301    1.013416    0.993896    0.999200\n",
        "max     12.172522    5.735773    1.004044    1.209309"
       ]
      }
     ],
     "prompt_number": 48
    },
    {
     "cell_type": "code",
     "collapsed": false,
     "input": [
      "df_scaled.describe()"
     ],
     "language": "python",
     "metadata": {},
     "outputs": [
      {
       "html": [
        "<div style=\"max-height:1000px;max-width:1500px;overflow:auto;\">\n",
        "<table border=\"1\" class=\"dataframe\">\n",
        "  <thead>\n",
        "    <tr style=\"text-align: right;\">\n",
        "      <th></th>\n",
        "      <th>1</th>\n",
        "      <th>2</th>\n",
        "      <th>3</th>\n",
        "      <th>4</th>\n",
        "    </tr>\n",
        "  </thead>\n",
        "  <tbody>\n",
        "    <tr>\n",
        "      <th>count</th>\n",
        "      <td> 7.780000e+02</td>\n",
        "      <td> 7.780000e+02</td>\n",
        "      <td> 7.780000e+02</td>\n",
        "      <td> 7.780000e+02</td>\n",
        "    </tr>\n",
        "    <tr>\n",
        "      <th>mean</th>\n",
        "      <td>-3.376691e-16</td>\n",
        "      <td> 1.119071e-15</td>\n",
        "      <td> 2.840344e-15</td>\n",
        "      <td>-8.827272e-15</td>\n",
        "    </tr>\n",
        "    <tr>\n",
        "      <th>std</th>\n",
        "      <td> 1.000643e+00</td>\n",
        "      <td> 1.000643e+00</td>\n",
        "      <td> 1.000643e+00</td>\n",
        "      <td> 1.000643e+00</td>\n",
        "    </tr>\n",
        "    <tr>\n",
        "      <th>min</th>\n",
        "      <td>-2.804891e-01</td>\n",
        "      <td>-3.640285e-01</td>\n",
        "      <td>-5.626557e+00</td>\n",
        "      <td>-9.868434e+00</td>\n",
        "    </tr>\n",
        "    <tr>\n",
        "      <th>25%</th>\n",
        "      <td>-2.091182e-01</td>\n",
        "      <td>-2.477542e-01</td>\n",
        "      <td>-1.116667e-01</td>\n",
        "      <td>-2.175512e-01</td>\n",
        "    </tr>\n",
        "    <tr>\n",
        "      <th>50%</th>\n",
        "      <td>-1.970277e-01</td>\n",
        "      <td>-2.398852e-01</td>\n",
        "      <td> 3.649098e-01</td>\n",
        "      <td> 1.305053e-01</td>\n",
        "    </tr>\n",
        "    <tr>\n",
        "      <th>75%</th>\n",
        "      <td>-1.770095e-01</td>\n",
        "      <td>-2.181279e-01</td>\n",
        "      <td> 5.502044e-01</td>\n",
        "      <td> 3.103653e-01</td>\n",
        "    </tr>\n",
        "    <tr>\n",
        "      <th>max</th>\n",
        "      <td> 9.440965e+00</td>\n",
        "      <td> 6.928544e+00</td>\n",
        "      <td> 6.883873e-01</td>\n",
        "      <td> 4.633992e+00</td>\n",
        "    </tr>\n",
        "  </tbody>\n",
        "</table>\n",
        "</div>"
       ],
       "output_type": "pyout",
       "prompt_number": 19,
       "text": [
        "                  1             2             3             4\n",
        "count  7.780000e+02  7.780000e+02  7.780000e+02  7.780000e+02\n",
        "mean  -3.376691e-16  1.119071e-15  2.840344e-15 -8.827272e-15\n",
        "std    1.000643e+00  1.000643e+00  1.000643e+00  1.000643e+00\n",
        "min   -2.804891e-01 -3.640285e-01 -5.626557e+00 -9.868434e+00\n",
        "25%   -2.091182e-01 -2.477542e-01 -1.116667e-01 -2.175512e-01\n",
        "50%   -1.970277e-01 -2.398852e-01  3.649098e-01  1.305053e-01\n",
        "75%   -1.770095e-01 -2.181279e-01  5.502044e-01  3.103653e-01\n",
        "max    9.440965e+00  6.928544e+00  6.883873e-01  4.633992e+00"
       ]
      }
     ],
     "prompt_number": 19
    },
    {
     "cell_type": "code",
     "collapsed": false,
     "input": [
      "df.head()"
     ],
     "language": "python",
     "metadata": {},
     "outputs": [
      {
       "html": [
        "<div style=\"max-height:1000px;max-width:1500px;overflow:auto;\">\n",
        "<table border=\"1\" class=\"dataframe\">\n",
        "  <thead>\n",
        "    <tr style=\"text-align: right;\">\n",
        "      <th></th>\n",
        "      <th>1</th>\n",
        "      <th>2</th>\n",
        "      <th>3</th>\n",
        "      <th>4</th>\n",
        "    </tr>\n",
        "  </thead>\n",
        "  <tbody>\n",
        "    <tr>\n",
        "      <th>0</th>\n",
        "      <td> 385.198649</td>\n",
        "      <td> 287.070247</td>\n",
        "      <td> 1308.388985</td>\n",
        "      <td> 126.377191</td>\n",
        "    </tr>\n",
        "    <tr>\n",
        "      <th>1</th>\n",
        "      <td> 396.824682</td>\n",
        "      <td> 285.529995</td>\n",
        "      <td> 1312.267092</td>\n",
        "      <td> 126.616246</td>\n",
        "    </tr>\n",
        "    <tr>\n",
        "      <th>2</th>\n",
        "      <td> 399.326170</td>\n",
        "      <td> 283.660938</td>\n",
        "      <td> 1311.900217</td>\n",
        "      <td> 126.326015</td>\n",
        "    </tr>\n",
        "    <tr>\n",
        "      <th>3</th>\n",
        "      <td> 397.541384</td>\n",
        "      <td> 283.036326</td>\n",
        "      <td> 1311.282784</td>\n",
        "      <td> 125.825794</td>\n",
        "    </tr>\n",
        "    <tr>\n",
        "      <th>4</th>\n",
        "      <td> 395.510214</td>\n",
        "      <td> 283.908441</td>\n",
        "      <td> 1312.231039</td>\n",
        "      <td> 126.260723</td>\n",
        "    </tr>\n",
        "  </tbody>\n",
        "</table>\n",
        "</div>"
       ],
       "output_type": "pyout",
       "prompt_number": 36,
       "text": [
        "            1           2            3           4\n",
        "0  385.198649  287.070247  1308.388985  126.377191\n",
        "1  396.824682  285.529995  1312.267092  126.616246\n",
        "2  399.326170  283.660938  1311.900217  126.326015\n",
        "3  397.541384  283.036326  1311.282784  125.825794\n",
        "4  395.510214  283.908441  1312.231039  126.260723"
       ]
      }
     ],
     "prompt_number": 36
    },
    {
     "cell_type": "code",
     "collapsed": false,
     "input": [
      "\n",
      "ax = df.plot(c='k' , subplots=True)\n",
      "[a.yaxis.set_major_formatter(FormatStrFormatter('%5.1f')) for a in ax]\n",
      "[pl.savefig('pic2.{}'.format(ext)) for ext in ['png','svg','pdf']]"
     ],
     "language": "python",
     "metadata": {},
     "outputs": [
      {
       "output_type": "pyout",
       "prompt_number": 94,
       "text": [
        "[None, None, None]"
       ]
      },
      {
       "output_type": "display_data",
       "png": "[encoded data removed]"
      }
     ],
     "prompt_number": 94
    }
   ],
   "metadata": {}
  }
 ]
}